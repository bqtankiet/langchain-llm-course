{
  "cells": [
    {
      "cell_type": "markdown",
      "metadata": {
        "id": "52824b89-532a-4e54-87e9-1410813cd39e"
      },
      "source": [
        "# Lesson 5: Evaluation\n",
        "<a target=\"_blank\" href=\"https://colab.research.google.com/github/bqtankiet/langchain-llm-course/blob/main/L5_Evaluation.ipynb\">\n",
        "  <img src=\"https://colab.research.google.com/assets/colab-badge.svg\" alt=\"Open In Colab\"/>\n",
        "</a>\n",
        "\n",
        "This notebook documents my learning journey on **LangChain for LLM Application Development** course from Deeplearning.ai \\\n",
        "[Lesson 5: Evaluation](https://learn.deeplearning.ai/courses/langchain/lesson/dputu/evaluation)\n",
        "\n",
        "\\\n",
        "What I Learned\n",
        "- **Manual Evaluation**: Use `set_debug(True)` and `set_verbose(True)` to check RAG outputs  \n",
        "- **LLM Evaluation**: Use `QAEvalChain` to grade answers with an LLM  \n",
        "- **Semantic Similarity**: Use sentence transformers + `cosine_similarity` to compare answers\n"
      ]
    },
    {
      "cell_type": "markdown",
      "source": [
        "## Setting up the Environment"
      ],
      "metadata": {
        "id": "hYlhgXajEgt3"
      }
    },
    {
      "cell_type": "code",
      "source": [
        "!pip install -qU python-dotenv\n",
        "!pip install -qU langchain-groq\n",
        "!pip install -qU langchain-community\n",
        "!pip install -qU langchain-huggingface\n",
        "!pip install -qU docarray"
      ],
      "metadata": {
        "collapsed": true,
        "id": "Q35RRQYaE7Rh"
      },
      "execution_count": null,
      "outputs": []
    },
    {
      "cell_type": "code",
      "source": [
        "import warnings\n",
        "warnings.filterwarnings(\"ignore\", category=FutureWarning)"
      ],
      "metadata": {
        "id": "yMc9Xvx8Ja0T"
      },
      "execution_count": null,
      "outputs": []
    },
    {
      "cell_type": "code",
      "execution_count": null,
      "metadata": {
        "height": 96,
        "tags": [],
        "id": "b7ed03ed-1322-49e3-b2a2-33e94fb592ef"
      },
      "outputs": [],
      "source": [
        "import os\n",
        "\n",
        "from dotenv import load_dotenv\n",
        "_ = load_dotenv() # read local .env file"
      ]
    },
    {
      "cell_type": "code",
      "execution_count": null,
      "metadata": {
        "height": 249,
        "id": "24ff81cd-dce0-4344-8d45-4a98fd3a87c9"
      },
      "outputs": [],
      "source": [
        "from langchain.chat_models import init_chat_model\n",
        "\n",
        "llm = init_chat_model(\n",
        "    model = \"llama-3.3-70b-versatile\",\n",
        "    model_provider = \"groq\",\n",
        "    temperature = 0.9\n",
        ")"
      ]
    },
    {
      "cell_type": "markdown",
      "source": [
        "## Create our Q&A application"
      ],
      "metadata": {
        "id": "oioFAPRhGID9"
      }
    },
    {
      "cell_type": "code",
      "source": [
        "from langchain_community.document_loaders.csv_loader import CSVLoader\n",
        "from langchain_huggingface import HuggingFaceEmbeddings\n",
        "from langchain.indexes.vectorstore import VectorstoreIndexCreator\n",
        "from langchain_community.vectorstores import DocArrayInMemorySearch\n",
        "from langchain_core.prompts import ChatPromptTemplate\n",
        "from langchain.chains import create_retrieval_chain\n",
        "from langchain.chains.combine_documents import create_stuff_documents_chain\n",
        "\n",
        "from IPython.display import display, Markdown"
      ],
      "metadata": {
        "id": "lgI7ZpCbGK73"
      },
      "execution_count": null,
      "outputs": []
    },
    {
      "cell_type": "code",
      "source": [
        "file_path = \"OutdoorClothingCatalog_1000.csv\"\n",
        "loader = CSVLoader(file_path=file_path)\n",
        "data = loader.load()"
      ],
      "metadata": {
        "id": "WTVwGMIRGyi6"
      },
      "execution_count": null,
      "outputs": []
    },
    {
      "cell_type": "code",
      "source": [
        "embeddings = HuggingFaceEmbeddings(model_name=\"sentence-transformers/all-MiniLM-L6-v2\")"
      ],
      "metadata": {
        "colab": {
          "base_uri": "https://localhost:8080/",
          "height": 493,
          "referenced_widgets": [
            "427dc3e472f74e029ceacf3cd2f7a6ed",
            "4f40d2059d784473a0f1775618f40576",
            "e4a885e780ff429ba81504d7967056b6",
            "ecbd0cddac0c4fdfa071c843aaf89d92",
            "22930d6ca6e044828946360d1f818773",
            "015d4124b0d740d0994460bd3ceb7c75",
            "24efed13e6e9444eb6924142a3ea72ec",
            "6aae37b70d994eccbe2f1c8bd831bae3",
            "cdca8c797dbf42a089972a6336589b7a",
            "9369f3e87f4d465bbcf108fee0ea5957",
            "54fe2c74b2754effa1e5fe4d05d31f67",
            "b5fd750ec9a941a2b139906d0685e6d7",
            "87c4ea588b1f42e2997779bfa6b4ccb1",
            "0f69a5fdd9344caeacbe732ca0c7472b",
            "a861b6c3bfc6441cb7441a47eb03fd3f",
            "6e4423e6816c4eddacc4f490495bcb18",
            "965da436359d44c8a1d1b1f49fc20fb2",
            "f97b67978abb40d89e2876d721cb0aa5",
            "2c327481555a4bef9d6ac3173c6f80a1",
            "2be90f2366d449bebd5893bef29a690d",
            "57964980f8884e9f8b3149a0eb3e1ec1",
            "d87ac54c70474e6bac6fcfe4573a7330",
            "04a0982123fd46578727d58d348dc3ee",
            "f44ae91546304f3881d4d7ab0d4c60f7",
            "c2dde253b9b7400dbb6ba30db0f5fa70",
            "f5e38230769b4942b91caf8e94e8cf52",
            "0e6d157a8c1e40699f55aa70a6941963",
            "768290123ea548d282cbf245002e069b",
            "794af0eb949d46ec93657c8c73f4fc3f",
            "1238c9038e904a51b9cef45141db0c4e",
            "b27e602b54e340ce8d2c8ace18a071ac",
            "e9f3a993f4c4402b89956c58392669c6",
            "c048c00e9d654305a9886203ad807daf",
            "dbc651f7aa9045a79190bbdbd1500b13",
            "c8aed63fae4044d59848d1d2d070a63c",
            "ad5f37137f5c46b0974b51502294f54e",
            "d9d4e00ecd5542b29f36262987a48b1a",
            "4a04a1d921a846139256a83d622809f1",
            "712b4de5901846cbb4839e5ae61e65f2",
            "12654da710854c2181541242ea614e7a",
            "c030a7a513a14443b962c3a36d3fef0b",
            "484f4d92e3f24864bd4a3c22621a9bc2",
            "d32ee271601b498dbc27985cfff0ad30",
            "25cd0b3218164d308cb7dc0a3b4abe80",
            "892f18ba1a964c2e8b7eba18d5f01c21",
            "292103078b834b9eb7d23da18aea4536",
            "6b19a371734044d39a86aeaf7ad9f83f",
            "f7b4fc7aa20f45deafe254b27a23615e",
            "c69519535693454793e3dad89f2fb468",
            "fd416a4dd35d4310bff69559990a17e7",
            "692166d1647d45bcbc3d5942c07c1151",
            "44b0c713a8f7478ebd54c35e92471c75",
            "da3fa4e86c05498ea24b9921ca6a6313",
            "067d743bd48d4cfba0f6c849a3aef051",
            "92eb11c58bce452e9e5d99e63b30fe09",
            "49ed2a844b7d49a38ffbdd3d993308a0",
            "034478d32a544f36b8a1f476217c61f9",
            "564efcdc5fe4437191c1310e9db0fc4c",
            "5423f67df6c44af297c387eb0031d1a2",
            "4ced4dc12e0e4d12ae404d93182d0e91",
            "0003653cf6fd4a759d220423c84bd538",
            "b37777cfcb664a39862b5429fc217e10",
            "a18a9a2b34644dd59af3257fd201c296",
            "2133538005624b04a0309eab3be2329f",
            "53704996ac5a4125849a3d88202d1027",
            "d020597c24ca47658cf2eb64bec90d81",
            "64d77eb2c5e64106bda0301fff720668",
            "338c9d64dd2b4f61b03e89721afb6f1b",
            "2066ae84cf954510a1f484cffe424473",
            "858e0e9ba6c546898ceff29975ef4fe5",
            "4deb73166c714fa687dc5200e2ca5171",
            "d58897314030497b8bdeddb801523089",
            "f6bef8e9280c40d183465abce8dd6607",
            "9683fe7a95cc4205ab15a29d5b0d7623",
            "0090b3c7e0854154b23edf37766fcb16",
            "18c9a25dff054db084c963c2cf83b6df",
            "0c7ebc3ea20a44b195ad16b990f2bd38",
            "d6dbae18c791472ca9c38f77ced0a9e2",
            "5a0019cc380d4ffcabb6e1b3e91bb8a5",
            "6abe590fb0a94b4eb004e9518aa90b30",
            "93ec28b47e634848836d54dd1eb82597",
            "91ae72f49a894e0f9b4f41fcf19225f2",
            "bffd60c2961e4465bba62bb4834de81c",
            "f424518bd39e4046bc0bf4967113c75f",
            "b5aa4efd8ee040f1b0a2ba5fc7973229",
            "59f738d0972f47d4a49009ce0b4cfd42",
            "afc56fdeb40f42d594d74b99542d41d8",
            "48d53195130b4385b639d6ce7d96d66f",
            "f242d9461d364db58275d6d9a417629b",
            "03f9f46a9237403dab12c4f9a265de70",
            "364eb891fa124ed3b1581f81be5a9f54",
            "ebd8497f59f645d29e5b45b5918cc88c",
            "21a13f2bba184cca82473992152f2869",
            "44eb1e48ac7b4fad99858d54fe14c2c6",
            "8b26fef7c66144a0abf9ceee6175bd86",
            "4885b87af3c14488b1266f51fd5d57c9",
            "661b1d54706247249b7e25fd5ae3da40",
            "6c0c7c3a45244b48a3e36d226ecc1280",
            "a4bfd7bbfc6941f4a00385ea87bf1072",
            "50b724bc3413467c81ed9994f541b0ec",
            "fcd4382fa195439bbcbc57b880f59ff9",
            "164d187dd2314c7a918d4fc0fad610fc",
            "2f496379100e4de5a797667af86912a4",
            "57a30f4532964d6e8462f4967a9689d0",
            "e387934589094c56852473a14606406c",
            "cc9d0dcb75ba466f83f20cd63ee07152",
            "238899c2c8b1430eb13a466fd9dd5dc8",
            "efc8b384450c499abc952fb2412e8b86",
            "80c0cbad4d0642048906b17dc54e72a4",
            "7ec8a2da1d86472dbdeca50fedbc3867",
            "e6b1148b9396435199fcc5cb9ee2ab1b",
            "266639ee0c21470d867967694988c6da",
            "dfa7f247edfa496aa32129d69f7d731f",
            "9f29b715c0924dd3939ad829f31ef9db",
            "d31fa5551df34d54b34fe5187fd04ebb",
            "c324f952be354ec5a2ec953ede3bee4e",
            "264a62a4e7d84c4fa091ea2fc91f9be0",
            "2c717caf224b47feaa1d0b663b49250e",
            "a4da229f617c4e00887d107fa373b58e",
            "f1c8010b880149b2a35a2685aab1b7b6",
            "47e7a2a7b22e42979a1d59304b8d7d4e"
          ]
        },
        "collapsed": true,
        "id": "Hu9o8SUBHSXQ",
        "outputId": "550c6812-3c59-4550-d976-44a4a61b6a42"
      },
      "execution_count": null,
      "outputs": [
        {
          "output_type": "stream",
          "name": "stderr",
          "text": [
            "/usr/local/lib/python3.11/dist-packages/huggingface_hub/utils/_auth.py:94: UserWarning: \n",
            "The secret `HF_TOKEN` does not exist in your Colab secrets.\n",
            "To authenticate with the Hugging Face Hub, create a token in your settings tab (https://huggingface.co/settings/tokens), set it as secret in your Google Colab and restart your session.\n",
            "You will be able to reuse this secret in all of your notebooks.\n",
            "Please note that authentication is recommended but still optional to access public models or datasets.\n",
            "  warnings.warn(\n"
          ]
        },
        {
          "output_type": "display_data",
          "data": {
            "text/plain": [
              "modules.json:   0%|          | 0.00/349 [00:00<?, ?B/s]"
            ],
            "application/vnd.jupyter.widget-view+json": {
              "version_major": 2,
              "version_minor": 0,
              "model_id": "427dc3e472f74e029ceacf3cd2f7a6ed"
            }
          },
          "metadata": {}
        },
        {
          "output_type": "display_data",
          "data": {
            "text/plain": [
              "config_sentence_transformers.json:   0%|          | 0.00/116 [00:00<?, ?B/s]"
            ],
            "application/vnd.jupyter.widget-view+json": {
              "version_major": 2,
              "version_minor": 0,
              "model_id": "b5fd750ec9a941a2b139906d0685e6d7"
            }
          },
          "metadata": {}
        },
        {
          "output_type": "display_data",
          "data": {
            "text/plain": [
              "README.md: 0.00B [00:00, ?B/s]"
            ],
            "application/vnd.jupyter.widget-view+json": {
              "version_major": 2,
              "version_minor": 0,
              "model_id": "04a0982123fd46578727d58d348dc3ee"
            }
          },
          "metadata": {}
        },
        {
          "output_type": "display_data",
          "data": {
            "text/plain": [
              "sentence_bert_config.json:   0%|          | 0.00/53.0 [00:00<?, ?B/s]"
            ],
            "application/vnd.jupyter.widget-view+json": {
              "version_major": 2,
              "version_minor": 0,
              "model_id": "dbc651f7aa9045a79190bbdbd1500b13"
            }
          },
          "metadata": {}
        },
        {
          "output_type": "display_data",
          "data": {
            "text/plain": [
              "config.json:   0%|          | 0.00/612 [00:00<?, ?B/s]"
            ],
            "application/vnd.jupyter.widget-view+json": {
              "version_major": 2,
              "version_minor": 0,
              "model_id": "892f18ba1a964c2e8b7eba18d5f01c21"
            }
          },
          "metadata": {}
        },
        {
          "output_type": "display_data",
          "data": {
            "text/plain": [
              "model.safetensors:   0%|          | 0.00/90.9M [00:00<?, ?B/s]"
            ],
            "application/vnd.jupyter.widget-view+json": {
              "version_major": 2,
              "version_minor": 0,
              "model_id": "49ed2a844b7d49a38ffbdd3d993308a0"
            }
          },
          "metadata": {}
        },
        {
          "output_type": "display_data",
          "data": {
            "text/plain": [
              "tokenizer_config.json:   0%|          | 0.00/350 [00:00<?, ?B/s]"
            ],
            "application/vnd.jupyter.widget-view+json": {
              "version_major": 2,
              "version_minor": 0,
              "model_id": "64d77eb2c5e64106bda0301fff720668"
            }
          },
          "metadata": {}
        },
        {
          "output_type": "display_data",
          "data": {
            "text/plain": [
              "vocab.txt: 0.00B [00:00, ?B/s]"
            ],
            "application/vnd.jupyter.widget-view+json": {
              "version_major": 2,
              "version_minor": 0,
              "model_id": "d6dbae18c791472ca9c38f77ced0a9e2"
            }
          },
          "metadata": {}
        },
        {
          "output_type": "display_data",
          "data": {
            "text/plain": [
              "tokenizer.json: 0.00B [00:00, ?B/s]"
            ],
            "application/vnd.jupyter.widget-view+json": {
              "version_major": 2,
              "version_minor": 0,
              "model_id": "f242d9461d364db58275d6d9a417629b"
            }
          },
          "metadata": {}
        },
        {
          "output_type": "display_data",
          "data": {
            "text/plain": [
              "special_tokens_map.json:   0%|          | 0.00/112 [00:00<?, ?B/s]"
            ],
            "application/vnd.jupyter.widget-view+json": {
              "version_major": 2,
              "version_minor": 0,
              "model_id": "50b724bc3413467c81ed9994f541b0ec"
            }
          },
          "metadata": {}
        },
        {
          "output_type": "display_data",
          "data": {
            "text/plain": [
              "config.json:   0%|          | 0.00/190 [00:00<?, ?B/s]"
            ],
            "application/vnd.jupyter.widget-view+json": {
              "version_major": 2,
              "version_minor": 0,
              "model_id": "e6b1148b9396435199fcc5cb9ee2ab1b"
            }
          },
          "metadata": {}
        }
      ]
    },
    {
      "cell_type": "code",
      "source": [
        "index = VectorstoreIndexCreator(\n",
        "    embedding=embeddings,\n",
        "    vectorstore_cls=DocArrayInMemorySearch\n",
        ").from_loaders([loader])"
      ],
      "metadata": {
        "id": "frIYohliG9PB"
      },
      "execution_count": null,
      "outputs": []
    },
    {
      "cell_type": "code",
      "source": [
        "prompt = ChatPromptTemplate.from_messages([\n",
        "    (\"system\", \"Use the given context to answer the question, just respond the answer\"\n",
        "     \"\\n{context}\\n\"),\n",
        "    (\"human\", \"{input}\")\n",
        "])\n",
        "\n",
        "retriever = index.vectorstore.as_retriever()\n",
        "question_answer_chain = create_stuff_documents_chain(llm, prompt)\n",
        "chain = create_retrieval_chain(retriever, question_answer_chain)"
      ],
      "metadata": {
        "id": "r8c48fU2KDqi"
      },
      "execution_count": null,
      "outputs": []
    },
    {
      "cell_type": "markdown",
      "source": [
        "## Prepare QA Test Set"
      ],
      "metadata": {
        "id": "B4rqF4ZTb2oD"
      }
    },
    {
      "cell_type": "markdown",
      "source": [
        "Coming up with test datapoints"
      ],
      "metadata": {
        "id": "QFAVF1phL_rR"
      }
    },
    {
      "cell_type": "code",
      "source": [
        "data[10]"
      ],
      "metadata": {
        "colab": {
          "base_uri": "https://localhost:8080/"
        },
        "id": "unpdbF76LlIM",
        "outputId": "13ecc13d-7315-4aae-de8f-012024a22be9"
      },
      "execution_count": null,
      "outputs": [
        {
          "output_type": "execute_result",
          "data": {
            "text/plain": [
              "Document(metadata={'source': 'OutdoorClothingCatalog_1000.csv', 'row': 10}, page_content=\": 10\\nname: Cozy Comfort Pullover Set, Stripe\\ndescription: Perfect for lounging, this striped knit set lives up to its name. We used ultrasoft fabric and an easy design that's as comfortable at bedtime as it is when we have to make a quick run out.\\r\\n\\r\\nSize & Fit\\r\\n- Pants are Favorite Fit: Sits lower on the waist.\\r\\n- Relaxed Fit: Our most generous fit sits farthest from the body.\\r\\n\\r\\nFabric & Care\\r\\n- In the softest blend of 63% polyester, 35% rayon and 2% spandex.\\r\\n\\r\\nAdditional Features\\r\\n- Relaxed fit top with raglan sleeves and rounded hem.\\r\\n- Pull-on pants have a wide elastic waistband and drawstring, side pockets and a modern slim leg.\\r\\n\\r\\nImported.\")"
            ]
          },
          "metadata": {},
          "execution_count": 45
        }
      ]
    },
    {
      "cell_type": "code",
      "source": [
        "response = chain.invoke({\"input\": \"Do the Cozy Comfort Pullover Set have side pockets?\"})"
      ],
      "metadata": {
        "id": "QzgVgVNYKi7A"
      },
      "execution_count": null,
      "outputs": []
    },
    {
      "cell_type": "code",
      "source": [
        "print(response[\"answer\"])"
      ],
      "metadata": {
        "colab": {
          "base_uri": "https://localhost:8080/"
        },
        "id": "9976oseuK5BA",
        "outputId": "fbe9fba1-347d-440e-cb75-ca7f7d9ddcc9"
      },
      "execution_count": null,
      "outputs": [
        {
          "output_type": "stream",
          "name": "stdout",
          "text": [
            "Yes\n"
          ]
        }
      ]
    },
    {
      "cell_type": "markdown",
      "source": [
        "Hard-coded examples"
      ],
      "metadata": {
        "id": "yJehZPlBMEKy"
      }
    },
    {
      "cell_type": "code",
      "source": [
        "examples = [\n",
        "    {\n",
        "        \"query\": \"Do the Cozy Comfort Pullover Set have side pockets?\",\n",
        "        \"answer\": \"Yes\"\n",
        "    },\n",
        "    {\n",
        "        \"query\": \"What collection is the Ultra-Lofty 850 Stretch Down Hooded Jacket from?\",\n",
        "        \"answer\": \"The DownTek collection\"\n",
        "    }\n",
        "]"
      ],
      "metadata": {
        "id": "DGJrwvotMFpp"
      },
      "execution_count": null,
      "outputs": []
    },
    {
      "cell_type": "markdown",
      "source": [
        "LLM-Generated examples"
      ],
      "metadata": {
        "id": "Me6FAIG1MJop"
      }
    },
    {
      "cell_type": "code",
      "source": [
        "from langchain.output_parsers.structured import ResponseSchema, StructuredOutputParser\n",
        "\n",
        "response_schemas = [\n",
        "    ResponseSchema(name=\"query\", description=\"The question based on the document\"),\n",
        "    ResponseSchema(name=\"answer\", description=\"The answer to the question\")\n",
        "]\n",
        "\n",
        "parser = StructuredOutputParser.from_response_schemas(response_schemas)\n",
        "\n",
        "prompt = ChatPromptTemplate.from_template(\n",
        "    \"Generate a question and answer based on the following document:\\n\\n{doc}\\n\\n\"\n",
        "    \"{format_instructions}\"\n",
        ")\n",
        "\n",
        "prompt = prompt.partial(format_instructions=parser.get_format_instructions())\n",
        "\n",
        "example_gen_chain = prompt | llm | parser"
      ],
      "metadata": {
        "id": "9KCw7PnpMKG8"
      },
      "execution_count": null,
      "outputs": []
    },
    {
      "cell_type": "code",
      "source": [
        "new_examples = example_gen_chain.batch([{\"doc\": d} for d in data[:5]])"
      ],
      "metadata": {
        "id": "6VFMuoZfMtSR"
      },
      "execution_count": null,
      "outputs": []
    },
    {
      "cell_type": "code",
      "source": [
        "new_examples"
      ],
      "metadata": {
        "colab": {
          "base_uri": "https://localhost:8080/"
        },
        "id": "Mp-sjRLdR-Cw",
        "outputId": "e62cd503-644e-4c22-ce41-a22bce9915af"
      },
      "execution_count": null,
      "outputs": [
        {
          "output_type": "execute_result",
          "data": {
            "text/plain": [
              "[{'query': \"What is the approximate weight of the Women's Campside Oxfords?\",\n",
              "  'answer': '1 lb. 1 oz. per pair'},\n",
              " {'query': 'What are the dimensions of the Medium Recycled Waterhog Dog Mat?',\n",
              "  'answer': '22.5 x 34.5 inches'},\n",
              " {'query': \"What features make the Infant and Toddler Girls' Coastal Chill Swimsuit provide sun protection and a secure fit?\",\n",
              "  'answer': \"The swimsuit has UPF 50+ rated fabric, which blocks 98% of the sun's harmful rays, and features crossover no-slip straps and a fully lined bottom for a secure fit and maximum coverage.\"},\n",
              " {'query': 'What is the sun protection rating of the Refresh Swimwear V-Neck Tankini?',\n",
              "  'answer': 'UPF 50+ rated, the highest rated sun protection possible'},\n",
              " {'query': 'What is the material of the EcoFlex 3L Storm Pants?',\n",
              "  'answer': '100% nylon, exclusive of trim'}]"
            ]
          },
          "metadata": {},
          "execution_count": 129
        }
      ]
    },
    {
      "cell_type": "markdown",
      "source": [
        "Combine examples"
      ],
      "metadata": {
        "id": "TfXHGukiSQmp"
      }
    },
    {
      "cell_type": "code",
      "source": [
        "examples = examples + new_examples"
      ],
      "metadata": {
        "id": "WEQwp1PzSSLg"
      },
      "execution_count": null,
      "outputs": []
    },
    {
      "cell_type": "code",
      "source": [
        "examples"
      ],
      "metadata": {
        "colab": {
          "base_uri": "https://localhost:8080/"
        },
        "id": "uUy66JMASVtF",
        "outputId": "c7e2f17b-ffc9-4ca5-8640-6bfab6a356cf"
      },
      "execution_count": null,
      "outputs": [
        {
          "output_type": "execute_result",
          "data": {
            "text/plain": [
              "[{'query': 'Do the Cozy Comfort Pullover Set have side pockets?',\n",
              "  'answer': 'Yes'},\n",
              " {'query': 'What collection is the Ultra-Lofty 850 Stretch Down Hooded Jacket from?',\n",
              "  'answer': 'The DownTek collection'},\n",
              " {'query': \"What is the approximate weight of the Women's Campside Oxfords?\",\n",
              "  'answer': '1 lb. 1 oz. per pair'},\n",
              " {'query': 'What are the dimensions of the Medium Recycled Waterhog Dog Mat?',\n",
              "  'answer': '22.5 x 34.5 inches'},\n",
              " {'query': \"What features make the Infant and Toddler Girls' Coastal Chill Swimsuit provide sun protection and a secure fit?\",\n",
              "  'answer': \"The swimsuit has UPF 50+ rated fabric, which blocks 98% of the sun's harmful rays, and features crossover no-slip straps and a fully lined bottom for a secure fit and maximum coverage.\"},\n",
              " {'query': 'What is the sun protection rating of the Refresh Swimwear V-Neck Tankini?',\n",
              "  'answer': 'UPF 50+ rated, the highest rated sun protection possible'},\n",
              " {'query': 'What is the material of the EcoFlex 3L Storm Pants?',\n",
              "  'answer': '100% nylon, exclusive of trim'}]"
            ]
          },
          "metadata": {},
          "execution_count": 131
        }
      ]
    },
    {
      "cell_type": "code",
      "source": [
        "chain.invoke({\"input\": examples[0][\"query\"]})"
      ],
      "metadata": {
        "colab": {
          "base_uri": "https://localhost:8080/"
        },
        "id": "58-nmjDASieo",
        "outputId": "32bafc23-7fd5-4e61-a8f5-177dfaa3b2ea"
      },
      "execution_count": null,
      "outputs": [
        {
          "output_type": "execute_result",
          "data": {
            "text/plain": [
              "{'input': 'Do the Cozy Comfort Pullover Set have side pockets?',\n",
              " 'context': [Document(metadata={'source': 'OutdoorClothingCatalog_1000.csv', 'row': 730}, page_content='Side seam pockets and back zip pocket, with mesh insert for quick drainage.'),\n",
              "  Document(metadata={'source': 'OutdoorClothingCatalog_1000.csv', 'row': 382}, page_content='Two elastic mesh water bottle pockets.\\r\\nTop compartment includes pocket with double-seal zipper for quick access.\\r\\nSide'),\n",
              "  Document(metadata={'source': 'OutdoorClothingCatalog_1000.csv', 'row': 464}, page_content='All pockets have sturdy pocket bags and offer plenty of room for a wallet, cell phone and more.\\r\\n\\r\\nGusseted crotch for ease of movement.\\r\\n\\r\\nImported.'),\n",
              "  Document(metadata={'source': 'OutdoorClothingCatalog_1000.csv', 'row': 281}, page_content='Two elastic mesh water bottle pockets.\\r\\nTop compartment includes pocket with double-se')],\n",
              " 'answer': 'Yes'}"
            ]
          },
          "metadata": {},
          "execution_count": 132
        }
      ]
    },
    {
      "cell_type": "markdown",
      "source": [
        "## Manual Evaluation"
      ],
      "metadata": {
        "id": "10-vOPOES897"
      }
    },
    {
      "cell_type": "code",
      "source": [
        "from langchain.globals import set_debug, set_verbose\n",
        "\n",
        "set_debug(True)\n",
        "set_verbose(True)"
      ],
      "metadata": {
        "id": "Outz6CTlS8kJ"
      },
      "execution_count": null,
      "outputs": []
    },
    {
      "cell_type": "code",
      "source": [
        "chain.invoke({\"input\": examples[0][\"query\"]})"
      ],
      "metadata": {
        "colab": {
          "base_uri": "https://localhost:8080/"
        },
        "collapsed": true,
        "id": "TE1RAdmLTRPu",
        "outputId": "59c63d90-ea57-46ca-95be-640d4c2f2c29"
      },
      "execution_count": null,
      "outputs": [
        {
          "output_type": "stream",
          "name": "stdout",
          "text": [
            "\u001b[32;1m\u001b[1;3m[chain/start]\u001b[0m \u001b[1m[chain:retrieval_chain] Entering Chain run with input:\n",
            "\u001b[0m{\n",
            "  \"input\": \"Do the Cozy Comfort Pullover Set have side pockets?\"\n",
            "}\n",
            "\u001b[32;1m\u001b[1;3m[chain/start]\u001b[0m \u001b[1m[chain:retrieval_chain > chain:RunnableAssign<context>] Entering Chain run with input:\n",
            "\u001b[0m{\n",
            "  \"input\": \"Do the Cozy Comfort Pullover Set have side pockets?\"\n",
            "}\n",
            "\u001b[32;1m\u001b[1;3m[chain/start]\u001b[0m \u001b[1m[chain:retrieval_chain > chain:RunnableAssign<context> > chain:RunnableParallel<context>] Entering Chain run with input:\n",
            "\u001b[0m{\n",
            "  \"input\": \"Do the Cozy Comfort Pullover Set have side pockets?\"\n",
            "}\n",
            "\u001b[32;1m\u001b[1;3m[chain/start]\u001b[0m \u001b[1m[chain:retrieval_chain > chain:RunnableAssign<context> > chain:RunnableParallel<context> > chain:retrieve_documents] Entering Chain run with input:\n",
            "\u001b[0m{\n",
            "  \"input\": \"Do the Cozy Comfort Pullover Set have side pockets?\"\n",
            "}\n",
            "\u001b[32;1m\u001b[1;3m[chain/start]\u001b[0m \u001b[1m[chain:retrieval_chain > chain:RunnableAssign<context> > chain:RunnableParallel<context> > chain:retrieve_documents > chain:RunnableLambda] Entering Chain run with input:\n",
            "\u001b[0m{\n",
            "  \"input\": \"Do the Cozy Comfort Pullover Set have side pockets?\"\n",
            "}\n",
            "\u001b[36;1m\u001b[1;3m[chain/end]\u001b[0m \u001b[1m[chain:retrieval_chain > chain:RunnableAssign<context> > chain:RunnableParallel<context> > chain:retrieve_documents > chain:RunnableLambda] [1ms] Exiting Chain run with output:\n",
            "\u001b[0m{\n",
            "  \"output\": \"Do the Cozy Comfort Pullover Set have side pockets?\"\n",
            "}\n",
            "\u001b[36;1m\u001b[1;3m[chain/end]\u001b[0m \u001b[1m[chain:retrieval_chain > chain:RunnableAssign<context> > chain:RunnableParallel<context> > chain:retrieve_documents] [88ms] Exiting Chain run with output:\n",
            "\u001b[0m[outputs]\n",
            "\u001b[36;1m\u001b[1;3m[chain/end]\u001b[0m \u001b[1m[chain:retrieval_chain > chain:RunnableAssign<context> > chain:RunnableParallel<context>] [92ms] Exiting Chain run with output:\n",
            "\u001b[0m[outputs]\n",
            "\u001b[36;1m\u001b[1;3m[chain/end]\u001b[0m \u001b[1m[chain:retrieval_chain > chain:RunnableAssign<context>] [93ms] Exiting Chain run with output:\n",
            "\u001b[0m[outputs]\n",
            "\u001b[32;1m\u001b[1;3m[chain/start]\u001b[0m \u001b[1m[chain:retrieval_chain > chain:RunnableAssign<answer>] Entering Chain run with input:\n",
            "\u001b[0m[inputs]\n",
            "\u001b[32;1m\u001b[1;3m[chain/start]\u001b[0m \u001b[1m[chain:retrieval_chain > chain:RunnableAssign<answer> > chain:RunnableParallel<answer>] Entering Chain run with input:\n",
            "\u001b[0m[inputs]\n",
            "\u001b[32;1m\u001b[1;3m[chain/start]\u001b[0m \u001b[1m[chain:retrieval_chain > chain:RunnableAssign<answer> > chain:RunnableParallel<answer> > chain:stuff_documents_chain] Entering Chain run with input:\n",
            "\u001b[0m[inputs]\n",
            "\u001b[32;1m\u001b[1;3m[chain/start]\u001b[0m \u001b[1m[chain:retrieval_chain > chain:RunnableAssign<answer> > chain:RunnableParallel<answer> > chain:stuff_documents_chain > chain:format_inputs] Entering Chain run with input:\n",
            "\u001b[0m[inputs]\n",
            "\u001b[32;1m\u001b[1;3m[chain/start]\u001b[0m \u001b[1m[chain:retrieval_chain > chain:RunnableAssign<answer> > chain:RunnableParallel<answer> > chain:stuff_documents_chain > chain:format_inputs > chain:RunnableParallel<context>] Entering Chain run with input:\n",
            "\u001b[0m[inputs]\n",
            "\u001b[32;1m\u001b[1;3m[chain/start]\u001b[0m \u001b[1m[chain:retrieval_chain > chain:RunnableAssign<answer> > chain:RunnableParallel<answer> > chain:stuff_documents_chain > chain:format_inputs > chain:RunnableParallel<context> > chain:format_docs] Entering Chain run with input:\n",
            "\u001b[0m[inputs]\n",
            "\u001b[36;1m\u001b[1;3m[chain/end]\u001b[0m \u001b[1m[chain:retrieval_chain > chain:RunnableAssign<answer> > chain:RunnableParallel<answer> > chain:stuff_documents_chain > chain:format_inputs > chain:RunnableParallel<context> > chain:format_docs] [1ms] Exiting Chain run with output:\n",
            "\u001b[0m{\n",
            "  \"output\": \"Side seam pockets and back zip pocket, with mesh insert for quick drainage.\\n\\nTwo elastic mesh water bottle pockets.\\r\\nTop compartment includes pocket with double-seal zipper for quick access.\\r\\nSide\\n\\nAll pockets have sturdy pocket bags and offer plenty of room for a wallet, cell phone and more.\\r\\n\\r\\nGusseted crotch for ease of movement.\\r\\n\\r\\nImported.\\n\\nTwo elastic mesh water bottle pockets.\\r\\nTop compartment includes pocket with double-se\"\n",
            "}\n",
            "\u001b[36;1m\u001b[1;3m[chain/end]\u001b[0m \u001b[1m[chain:retrieval_chain > chain:RunnableAssign<answer> > chain:RunnableParallel<answer> > chain:stuff_documents_chain > chain:format_inputs > chain:RunnableParallel<context>] [5ms] Exiting Chain run with output:\n",
            "\u001b[0m{\n",
            "  \"context\": \"Side seam pockets and back zip pocket, with mesh insert for quick drainage.\\n\\nTwo elastic mesh water bottle pockets.\\r\\nTop compartment includes pocket with double-seal zipper for quick access.\\r\\nSide\\n\\nAll pockets have sturdy pocket bags and offer plenty of room for a wallet, cell phone and more.\\r\\n\\r\\nGusseted crotch for ease of movement.\\r\\n\\r\\nImported.\\n\\nTwo elastic mesh water bottle pockets.\\r\\nTop compartment includes pocket with double-se\"\n",
            "}\n",
            "\u001b[36;1m\u001b[1;3m[chain/end]\u001b[0m \u001b[1m[chain:retrieval_chain > chain:RunnableAssign<answer> > chain:RunnableParallel<answer> > chain:stuff_documents_chain > chain:format_inputs] [6ms] Exiting Chain run with output:\n",
            "\u001b[0m{\n",
            "  \"input\": \"Do the Cozy Comfort Pullover Set have side pockets?\",\n",
            "  \"context\": \"Side seam pockets and back zip pocket, with mesh insert for quick drainage.\\n\\nTwo elastic mesh water bottle pockets.\\r\\nTop compartment includes pocket with double-seal zipper for quick access.\\r\\nSide\\n\\nAll pockets have sturdy pocket bags and offer plenty of room for a wallet, cell phone and more.\\r\\n\\r\\nGusseted crotch for ease of movement.\\r\\n\\r\\nImported.\\n\\nTwo elastic mesh water bottle pockets.\\r\\nTop compartment includes pocket with double-se\"\n",
            "}\n",
            "\u001b[32;1m\u001b[1;3m[chain/start]\u001b[0m \u001b[1m[chain:retrieval_chain > chain:RunnableAssign<answer> > chain:RunnableParallel<answer> > chain:stuff_documents_chain > prompt:ChatPromptTemplate] Entering Prompt run with input:\n",
            "\u001b[0m{\n",
            "  \"input\": \"Do the Cozy Comfort Pullover Set have side pockets?\",\n",
            "  \"context\": \"Side seam pockets and back zip pocket, with mesh insert for quick drainage.\\n\\nTwo elastic mesh water bottle pockets.\\r\\nTop compartment includes pocket with double-seal zipper for quick access.\\r\\nSide\\n\\nAll pockets have sturdy pocket bags and offer plenty of room for a wallet, cell phone and more.\\r\\n\\r\\nGusseted crotch for ease of movement.\\r\\n\\r\\nImported.\\n\\nTwo elastic mesh water bottle pockets.\\r\\nTop compartment includes pocket with double-se\"\n",
            "}\n",
            "\u001b[36;1m\u001b[1;3m[chain/end]\u001b[0m \u001b[1m[chain:retrieval_chain > chain:RunnableAssign<answer> > chain:RunnableParallel<answer> > chain:stuff_documents_chain > prompt:ChatPromptTemplate] [1ms] Exiting Prompt run with output:\n",
            "\u001b[0m[outputs]\n",
            "\u001b[32;1m\u001b[1;3m[llm/start]\u001b[0m \u001b[1m[chain:retrieval_chain > chain:RunnableAssign<answer> > chain:RunnableParallel<answer> > chain:stuff_documents_chain > llm:ChatGroq] Entering LLM run with input:\n",
            "\u001b[0m{\n",
            "  \"prompts\": [\n",
            "    \"System: Use the given context to answer the question, just respond the answer\\nSide seam pockets and back zip pocket, with mesh insert for quick drainage.\\n\\nTwo elastic mesh water bottle pockets.\\r\\nTop compartment includes pocket with double-seal zipper for quick access.\\r\\nSide\\n\\nAll pockets have sturdy pocket bags and offer plenty of room for a wallet, cell phone and more.\\r\\n\\r\\nGusseted crotch for ease of movement.\\r\\n\\r\\nImported.\\n\\nTwo elastic mesh water bottle pockets.\\r\\nTop compartment includes pocket with double-se\\n\\nHuman: Do the Cozy Comfort Pullover Set have side pockets?\"\n",
            "  ]\n",
            "}\n",
            "\u001b[36;1m\u001b[1;3m[llm/end]\u001b[0m \u001b[1m[chain:retrieval_chain > chain:RunnableAssign<answer> > chain:RunnableParallel<answer> > chain:stuff_documents_chain > llm:ChatGroq] [359ms] Exiting LLM run with output:\n",
            "\u001b[0m{\n",
            "  \"generations\": [\n",
            "    [\n",
            "      {\n",
            "        \"text\": \"Yes\",\n",
            "        \"generation_info\": {\n",
            "          \"finish_reason\": \"stop\",\n",
            "          \"logprobs\": null\n",
            "        },\n",
            "        \"type\": \"ChatGeneration\",\n",
            "        \"message\": {\n",
            "          \"lc\": 1,\n",
            "          \"type\": \"constructor\",\n",
            "          \"id\": [\n",
            "            \"langchain\",\n",
            "            \"schema\",\n",
            "            \"messages\",\n",
            "            \"AIMessage\"\n",
            "          ],\n",
            "          \"kwargs\": {\n",
            "            \"content\": \"Yes\",\n",
            "            \"response_metadata\": {\n",
            "              \"token_usage\": {\n",
            "                \"completion_tokens\": 2,\n",
            "                \"prompt_tokens\": 146,\n",
            "                \"total_tokens\": 148,\n",
            "                \"completion_time\": 1.2e-07,\n",
            "                \"prompt_time\": 0.019044523,\n",
            "                \"queue_time\": 0.21760338099999998,\n",
            "                \"total_time\": 0.019044643\n",
            "              },\n",
            "              \"model_name\": \"llama-3.3-70b-versatile\",\n",
            "              \"system_fingerprint\": \"fp_6507bcfb6f\",\n",
            "              \"service_tier\": \"on_demand\",\n",
            "              \"finish_reason\": \"stop\",\n",
            "              \"logprobs\": null\n",
            "            },\n",
            "            \"type\": \"ai\",\n",
            "            \"id\": \"run--17122248-9989-48cb-b798-ffd20fba58e0-0\",\n",
            "            \"usage_metadata\": {\n",
            "              \"input_tokens\": 146,\n",
            "              \"output_tokens\": 2,\n",
            "              \"total_tokens\": 148\n",
            "            },\n",
            "            \"tool_calls\": [],\n",
            "            \"invalid_tool_calls\": []\n",
            "          }\n",
            "        }\n",
            "      }\n",
            "    ]\n",
            "  ],\n",
            "  \"llm_output\": {\n",
            "    \"token_usage\": {\n",
            "      \"completion_tokens\": 2,\n",
            "      \"prompt_tokens\": 146,\n",
            "      \"total_tokens\": 148,\n",
            "      \"completion_time\": 1.2e-07,\n",
            "      \"prompt_time\": 0.019044523,\n",
            "      \"queue_time\": 0.21760338099999998,\n",
            "      \"total_time\": 0.019044643\n",
            "    },\n",
            "    \"model_name\": \"llama-3.3-70b-versatile\",\n",
            "    \"system_fingerprint\": \"fp_6507bcfb6f\",\n",
            "    \"service_tier\": \"on_demand\"\n",
            "  },\n",
            "  \"run\": null,\n",
            "  \"type\": \"LLMResult\"\n",
            "}\n",
            "\u001b[32;1m\u001b[1;3m[chain/start]\u001b[0m \u001b[1m[chain:retrieval_chain > chain:RunnableAssign<answer> > chain:RunnableParallel<answer> > chain:stuff_documents_chain > parser:StrOutputParser] Entering Parser run with input:\n",
            "\u001b[0m[inputs]\n",
            "\u001b[36;1m\u001b[1;3m[chain/end]\u001b[0m \u001b[1m[chain:retrieval_chain > chain:RunnableAssign<answer> > chain:RunnableParallel<answer> > chain:stuff_documents_chain > parser:StrOutputParser] [1ms] Exiting Parser run with output:\n",
            "\u001b[0m{\n",
            "  \"output\": \"Yes\"\n",
            "}\n",
            "\u001b[36;1m\u001b[1;3m[chain/end]\u001b[0m \u001b[1m[chain:retrieval_chain > chain:RunnableAssign<answer> > chain:RunnableParallel<answer> > chain:stuff_documents_chain] [370ms] Exiting Chain run with output:\n",
            "\u001b[0m{\n",
            "  \"output\": \"Yes\"\n",
            "}\n",
            "\u001b[36;1m\u001b[1;3m[chain/end]\u001b[0m \u001b[1m[chain:retrieval_chain > chain:RunnableAssign<answer> > chain:RunnableParallel<answer>] [375ms] Exiting Chain run with output:\n",
            "\u001b[0m{\n",
            "  \"answer\": \"Yes\"\n",
            "}\n",
            "\u001b[36;1m\u001b[1;3m[chain/end]\u001b[0m \u001b[1m[chain:retrieval_chain > chain:RunnableAssign<answer>] [376ms] Exiting Chain run with output:\n",
            "\u001b[0m[outputs]\n",
            "\u001b[36;1m\u001b[1;3m[chain/end]\u001b[0m \u001b[1m[chain:retrieval_chain] [472ms] Exiting Chain run with output:\n",
            "\u001b[0m[outputs]\n"
          ]
        },
        {
          "output_type": "execute_result",
          "data": {
            "text/plain": [
              "{'input': 'Do the Cozy Comfort Pullover Set have side pockets?',\n",
              " 'context': [Document(metadata={'source': 'OutdoorClothingCatalog_1000.csv', 'row': 730}, page_content='Side seam pockets and back zip pocket, with mesh insert for quick drainage.'),\n",
              "  Document(metadata={'source': 'OutdoorClothingCatalog_1000.csv', 'row': 382}, page_content='Two elastic mesh water bottle pockets.\\r\\nTop compartment includes pocket with double-seal zipper for quick access.\\r\\nSide'),\n",
              "  Document(metadata={'source': 'OutdoorClothingCatalog_1000.csv', 'row': 464}, page_content='All pockets have sturdy pocket bags and offer plenty of room for a wallet, cell phone and more.\\r\\n\\r\\nGusseted crotch for ease of movement.\\r\\n\\r\\nImported.'),\n",
              "  Document(metadata={'source': 'OutdoorClothingCatalog_1000.csv', 'row': 281}, page_content='Two elastic mesh water bottle pockets.\\r\\nTop compartment includes pocket with double-se')],\n",
              " 'answer': 'Yes'}"
            ]
          },
          "metadata": {},
          "execution_count": 97
        }
      ]
    },
    {
      "cell_type": "code",
      "source": [
        "set_debug(False)\n",
        "set_verbose(False)"
      ],
      "metadata": {
        "id": "vhu-3P1JTaQ7"
      },
      "execution_count": null,
      "outputs": []
    },
    {
      "cell_type": "markdown",
      "metadata": {
        "id": "d5bdbdce"
      },
      "source": [
        "## LLM assisted evaluation"
      ]
    },
    {
      "cell_type": "code",
      "source": [
        "predictions = chain.batch([{\"input\": d[\"query\"]} for d in examples])"
      ],
      "metadata": {
        "id": "6EBPKBbAUvHn"
      },
      "execution_count": null,
      "outputs": []
    },
    {
      "cell_type": "code",
      "source": [
        "from langchain.evaluation.qa.eval_chain import QAEvalChain"
      ],
      "metadata": {
        "id": "YZQc5JJaUvFH"
      },
      "execution_count": null,
      "outputs": []
    },
    {
      "cell_type": "code",
      "source": [
        "eval_chain = QAEvalChain.from_llm(llm)"
      ],
      "metadata": {
        "id": "fRepRcd7UvCp"
      },
      "execution_count": null,
      "outputs": []
    },
    {
      "cell_type": "code",
      "source": [
        "graded_outputs = eval_chain.evaluate(\n",
        "    examples,\n",
        "    predictions,\n",
        "    question_key=\"query\",\n",
        "    answer_key=\"answer\",\n",
        "    prediction_key=\"answer\",\n",
        ")"
      ],
      "metadata": {
        "id": "qfSy8z4uUu_4"
      },
      "execution_count": null,
      "outputs": []
    },
    {
      "cell_type": "code",
      "source": [
        "for i, eg in enumerate(examples):\n",
        "    print(f\"Example {i}:\")\n",
        "    print(\"Question: \" + predictions[i]['input'])\n",
        "    print(\"Real Answer: \" + examples[i]['answer'])\n",
        "    print(\"Predicted Answer: \" + predictions[i]['answer'])\n",
        "    print(\"Predicted Grade: \" + graded_outputs[i]['results'])\n",
        "    print()"
      ],
      "metadata": {
        "colab": {
          "base_uri": "https://localhost:8080/"
        },
        "id": "6mlCZ0rcWFmW",
        "outputId": "6c443669-059e-4898-9421-553336bd877c"
      },
      "execution_count": null,
      "outputs": [
        {
          "output_type": "stream",
          "name": "stdout",
          "text": [
            "Example 0:\n",
            "Question: Do the Cozy Comfort Pullover Set have side pockets?\n",
            "Real Answer: Yes\n",
            "Predicted Answer: Yes, it has side seam pockets.\n",
            "Predicted Grade: GRADE: CORRECT\n",
            "\n",
            "Example 1:\n",
            "Question: What collection is the Ultra-Lofty 850 Stretch Down Hooded Jacket from?\n",
            "Real Answer: The DownTek collection\n",
            "Predicted Answer: DownTek collection\n",
            "Predicted Grade: GRADE: CORRECT\n",
            "\n",
            "Example 2:\n",
            "Question: What is the approximate weight of the Women's Campside Oxfords?\n",
            "Real Answer: 1 lb. 1 oz. per pair\n",
            "Predicted Answer: 1 lb. 1 oz. per pair.\n",
            "Predicted Grade: GRADE: CORRECT\n",
            "\n",
            "Example 3:\n",
            "Question: What are the dimensions of the Medium Recycled Waterhog Dog Mat?\n",
            "Real Answer: 22.5 x 34.5 inches\n",
            "Predicted Answer: 22.5\" x 34.5\"\n",
            "Predicted Grade: GRADE: CORRECT\n",
            "\n",
            "Example 4:\n",
            "Question: What features make the Infant and Toddler Girls' Coastal Chill Swimsuit provide sun protection and a secure fit?\n",
            "Real Answer: The swimsuit has UPF 50+ rated fabric, which blocks 98% of the sun's harmful rays, and features crossover no-slip straps and a fully lined bottom for a secure fit and maximum coverage.\n",
            "Predicted Answer: The features that make the Infant and Toddler Girls' Coastal Chill Swimsuit provide sun protection and a secure fit are:\n",
            "\n",
            "1. UPF 50+ rated fabric, which provides the highest rated sun protection possible, blocking 98% of the sun's harmful rays.\n",
            "2. Crossover no-slip straps, which ensure a secure fit.\n",
            "3. Fully lined bottom, which provides maximum coverage.\n",
            "Predicted Grade: GRADE: CORRECT\n",
            "\n",
            "Example 5:\n",
            "Question: What is the sun protection rating of the Refresh Swimwear V-Neck Tankini?\n",
            "Real Answer: UPF 50+ rated, the highest rated sun protection possible\n",
            "Predicted Answer: UPF 50+\n",
            "Predicted Grade: GRADE: CORRECT\n",
            "\n",
            "Example 6:\n",
            "Question: What is the material of the EcoFlex 3L Storm Pants?\n",
            "Real Answer: 100% nylon, exclusive of trim\n",
            "Predicted Answer: 100% nylon, exclusive of trim.\n",
            "Predicted Grade: GRADE: CORRECT\n",
            "\n"
          ]
        }
      ]
    },
    {
      "cell_type": "markdown",
      "source": [
        "## Sematic Similarity evaluation"
      ],
      "metadata": {
        "id": "iwL0g4vrYfYD"
      }
    },
    {
      "cell_type": "code",
      "source": [
        "from sklearn.metrics.pairwise import cosine_similarity"
      ],
      "metadata": {
        "id": "XZdkdOFHZGJl"
      },
      "execution_count": null,
      "outputs": []
    },
    {
      "cell_type": "code",
      "source": [
        "from sentence_transformers import SentenceTransformer\n",
        "\n",
        "sentence_encoder = SentenceTransformer('all-MiniLM-L6-v2')"
      ],
      "metadata": {
        "id": "8oF2jwHjaVzD"
      },
      "execution_count": null,
      "outputs": []
    },
    {
      "cell_type": "code",
      "source": [
        "def compute_semantic_similarity(true_answer, predicted_answer):\n",
        "    embedded_sentences = sentence_encoder.encode([true_answer, predicted_answer])\n",
        "    score = cosine_similarity([embedded_sentences[0]], [embedded_sentences[1]])[0][0]\n",
        "    return score"
      ],
      "metadata": {
        "id": "eeIb1xQ6WFj2"
      },
      "execution_count": null,
      "outputs": []
    },
    {
      "cell_type": "code",
      "source": [
        "for i, eg in enumerate(examples):\n",
        "  true = examples[i][\"answer\"]\n",
        "  pred = predictions[i][\"answer\"]\n",
        "  score = compute_semantic_similarity(true, pred)\n",
        "  print(f\"Example {i}:\")\n",
        "  print(f\"Question: {eg['query']}\")\n",
        "  print(f\"Real Answer: {true}\" )\n",
        "  print(f\"Predicted Answer: {pred}\")\n",
        "  print(f\"Similarity Score: {score}\")\n",
        "  print()"
      ],
      "metadata": {
        "colab": {
          "base_uri": "https://localhost:8080/"
        },
        "id": "LCNSdpW4WFh1",
        "outputId": "1ec7a0f4-5515-479c-94af-248cf4a1b9d0"
      },
      "execution_count": null,
      "outputs": [
        {
          "output_type": "stream",
          "name": "stdout",
          "text": [
            "Example 0:\n",
            "Question: Do the Cozy Comfort Pullover Set have side pockets?\n",
            "Real Answer: Yes\n",
            "Predicted Answer: Yes, it has side seam pockets.\n",
            "Similarity Score: 0.10001668334007263\n",
            "\n",
            "Example 1:\n",
            "Question: What collection is the Ultra-Lofty 850 Stretch Down Hooded Jacket from?\n",
            "Real Answer: The DownTek collection\n",
            "Predicted Answer: DownTek collection\n",
            "Similarity Score: 0.9512015581130981\n",
            "\n",
            "Example 2:\n",
            "Question: What is the approximate weight of the Women's Campside Oxfords?\n",
            "Real Answer: 1 lb. 1 oz. per pair\n",
            "Predicted Answer: 1 lb. 1 oz. per pair.\n",
            "Similarity Score: 0.9933826923370361\n",
            "\n",
            "Example 3:\n",
            "Question: What are the dimensions of the Medium Recycled Waterhog Dog Mat?\n",
            "Real Answer: 22.5 x 34.5 inches\n",
            "Predicted Answer: 22.5\" x 34.5\"\n",
            "Similarity Score: 0.9634620547294617\n",
            "\n",
            "Example 4:\n",
            "Question: What features make the Infant and Toddler Girls' Coastal Chill Swimsuit provide sun protection and a secure fit?\n",
            "Real Answer: The swimsuit has UPF 50+ rated fabric, which blocks 98% of the sun's harmful rays, and features crossover no-slip straps and a fully lined bottom for a secure fit and maximum coverage.\n",
            "Predicted Answer: The features that make the Infant and Toddler Girls' Coastal Chill Swimsuit provide sun protection and a secure fit are:\n",
            "\n",
            "1. UPF 50+ rated fabric, which provides the highest rated sun protection possible, blocking 98% of the sun's harmful rays.\n",
            "2. Crossover no-slip straps, which ensure a secure fit.\n",
            "3. Fully lined bottom, which provides maximum coverage.\n",
            "Similarity Score: 0.7139694094657898\n",
            "\n",
            "Example 5:\n",
            "Question: What is the sun protection rating of the Refresh Swimwear V-Neck Tankini?\n",
            "Real Answer: UPF 50+ rated, the highest rated sun protection possible\n",
            "Predicted Answer: UPF 50+\n",
            "Similarity Score: 0.4872887134552002\n",
            "\n",
            "Example 6:\n",
            "Question: What is the material of the EcoFlex 3L Storm Pants?\n",
            "Real Answer: 100% nylon, exclusive of trim\n",
            "Predicted Answer: 100% nylon, exclusive of trim.\n",
            "Similarity Score: 0.9748433828353882\n",
            "\n"
          ]
        }
      ]
    },
    {
      "cell_type": "code",
      "source": [],
      "metadata": {
        "id": "Ci90aTMdWFfk"
      },
      "execution_count": null,
      "outputs": []
    },
    {
      "cell_type": "code",
      "source": [],
      "metadata": {
        "id": "qDTINj6cWFdV"
      },
      "execution_count": null,
      "outputs": []
    }
  ],
  "metadata": {
    "colab": {
      "name": "Welcome To Colab",
      "toc_visible": true,
      "provenance": []
    },
    "kernelspec": {
      "display_name": "Python 3",
      "name": "python3"
    }
  },
  "nbformat": 4,
  "nbformat_minor": 0
}