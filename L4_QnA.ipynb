{
  "nbformat": 4,
  "nbformat_minor": 0,
  "metadata": {
    "colab": {
      "provenance": [],
      "toc_visible": true
    },
    "kernelspec": {
      "name": "python3",
      "display_name": "Python 3"
    },
    "language_info": {
      "name": "python"
    }
  },
  "cells": [
    {
      "cell_type": "markdown",
      "source": [
        "# Lessons 4: Q&A over Documents\n",
        "This notebook documents my learning journey on **LangChain for LLM Application Development** course from Deeplearning.ai \\\n",
        "[Lesson 4: QnA](https://learn.deeplearning.ai/courses/langchain/lesson/mv7m1/question-and-answer)\n",
        "\n",
        "\\\n",
        "What I Learned\n",
        "- How to load and prepare document data for RAG (`CSVLoader`)\n",
        "- How to embed documents using HuggingFace models\n",
        "- How to create a vector store for semantic search\n",
        "- How to manually construct a RAG pipeline using retrievers and LLMs\n",
        "- How to simplify the full pipeline using `VectorstoreIndexCreator`"
      ],
      "metadata": {
        "id": "zSlLjwv589rY"
      }
    },
    {
      "cell_type": "markdown",
      "source": [
        "## Setting up the Environment"
      ],
      "metadata": {
        "id": "Kwic4yYv9IpV"
      }
    },
    {
      "cell_type": "code",
      "execution_count": null,
      "metadata": {
        "id": "scS2Jxvj84tt"
      },
      "outputs": [],
      "source": [
        "!pip install -qU python-dotenv\n",
        "!pip install -qU langchain-groq\n",
        "!pip install -qU langchain-community\n",
        "!pip install -qU langchain-huggingface\n",
        "!pip install -qU docarray"
      ]
    },
    {
      "cell_type": "code",
      "source": [
        "import warnings\n",
        "warnings.filterwarnings(\"ignore\", category=FutureWarning)"
      ],
      "metadata": {
        "id": "xF6q-a4dKnJs"
      },
      "execution_count": null,
      "outputs": []
    },
    {
      "cell_type": "code",
      "source": [
        "import os\n",
        "from dotenv import load_dotenv\n",
        "\n",
        "_ = load_dotenv() # read local .env file"
      ],
      "metadata": {
        "id": "HqMcvp059Rh7"
      },
      "execution_count": null,
      "outputs": []
    },
    {
      "cell_type": "code",
      "source": [
        "from langchain.chat_models import init_chat_model\n",
        "\n",
        "llm = init_chat_model(\n",
        "    model = \"llama-3.3-70b-versatile\",\n",
        "    model_provider = \"groq\",\n",
        "    temperature = 0.9\n",
        ")"
      ],
      "metadata": {
        "id": "RUb5rfEE9dgt"
      },
      "execution_count": null,
      "outputs": []
    },
    {
      "cell_type": "markdown",
      "source": [
        "## I. Experimenting with a Simple RAG\n"
      ],
      "metadata": {
        "id": "PsgjbR339x64"
      }
    },
    {
      "cell_type": "markdown",
      "source": [
        "1. Load product data from a CSV file\n"
      ],
      "metadata": {
        "id": "2EKkwbFmhlsN"
      }
    },
    {
      "cell_type": "code",
      "source": [
        "from langchain_community.document_loaders.csv_loader import CSVLoader\n",
        "\n",
        "file_path = \"OutdoorClothingCatalog_1000.csv\"\n",
        "loader = CSVLoader(file_path=file_path)"
      ],
      "metadata": {
        "id": "UioqDB83-ps7"
      },
      "execution_count": null,
      "outputs": []
    },
    {
      "cell_type": "markdown",
      "source": [
        "2. Define the embedding model to convert text into vectors"
      ],
      "metadata": {
        "id": "y84i74ushnYU"
      }
    },
    {
      "cell_type": "code",
      "source": [
        "from langchain_huggingface import HuggingFaceEmbeddings\n",
        "\n",
        "embeddings = HuggingFaceEmbeddings(model_name=\"sentence-transformers/all-MiniLM-L6-v2\")\n",
        "\n",
        "# more information: https://huggingface.co/sentence-transformers/all-MiniLM-L6-v2"
      ],
      "metadata": {
        "id": "RHj-x3X9GnkV"
      },
      "execution_count": null,
      "outputs": []
    },
    {
      "cell_type": "markdown",
      "source": [
        "3. Create a vector index from the loaded documents using the embedding model"
      ],
      "metadata": {
        "id": "wmp6xflLhp4b"
      }
    },
    {
      "cell_type": "code",
      "source": [
        "from langchain.indexes.vectorstore import VectorstoreIndexCreator\n",
        "from langchain_community.vectorstores import DocArrayInMemorySearch\n",
        "\n",
        "index_creator = VectorstoreIndexCreator(\n",
        "    embedding=embeddings,\n",
        "    vectorstore_cls=DocArrayInMemorySearch\n",
        ")\n",
        "\n",
        "index = index_creator.from_loaders([loader])"
      ],
      "metadata": {
        "id": "7JUP-UnF_z3i"
      },
      "execution_count": null,
      "outputs": []
    },
    {
      "cell_type": "markdown",
      "source": [
        "4. Query and display the result"
      ],
      "metadata": {
        "id": "67Bp3vRFh8Fn"
      }
    },
    {
      "cell_type": "code",
      "source": [
        "query =\"Please list all your shirts with sun protection in a table in markdown and summarize each one.\""
      ],
      "metadata": {
        "id": "zGG9uz26IVSS"
      },
      "execution_count": null,
      "outputs": []
    },
    {
      "cell_type": "code",
      "source": [
        "response = index.query(query, llm = llm)"
      ],
      "metadata": {
        "id": "LgX5bH4pIcT_"
      },
      "execution_count": null,
      "outputs": []
    },
    {
      "cell_type": "code",
      "source": [
        "from IPython.display import display, Markdown\n",
        "\n",
        "display(Markdown(response))"
      ],
      "metadata": {
        "colab": {
          "base_uri": "https://localhost:8080/",
          "height": 366
        },
        "id": "LSIR0cGvIcRv",
        "outputId": "f8548fb5-3c2e-441e-830c-bdb56d69f91d"
      },
      "execution_count": null,
      "outputs": [
        {
          "output_type": "display_data",
          "data": {
            "text/plain": [
              "<IPython.core.display.Markdown object>"
            ],
            "text/markdown": "### Shirts with Sun Protection\n| Shirt Name | Description | Fabric | UPF Rating | Care |\n| --- | --- | --- | --- | --- |\n| Women's Tropical Tee, Sleeveless | Sleeveless button-up with SunSmart™ protection, wrinkle resistant, and low-profile pockets | 71% nylon, 29% polyester | UPF 50+ | Machine wash and dry |\n| Sun Shield Shirt | High-performance sun shirt with moisture-wicking and abrasion-resistant fabric | 78% nylon, 22% Lycra Xtra Life fiber | UPF 50+ | Hand wash, line dry |\n| Tropical Breeze Shirt | Lightweight, breathable long-sleeve men's UPF shirt with SunSmart™ protection and moisture-wicking fabric | 71% nylon, 29% polyester | UPF 50+ | Machine wash and dry |\n| Men's Plaid Tropic Shirt, Short-Sleeve | Ultracomfortable sun protection shirt with SunSmart technology and wrinkle-free fabric | 52% polyester, 48% nylon | UPF 50+ | Machine wash and dry |\n\nEach shirt provides UPF 50+ sun protection, blocking 98% of the sun's harmful UV rays. The Women's Tropical Tee and Tropical Breeze Shirt feature SunSmart™ technology, while the Sun Shield Shirt has a high-performance fabric recommended by The Skin Cancer Foundation. The Men's Plaid Tropic Shirt offers a comfortable and breathable design with wrinkle-free fabric. All shirts are designed to provide superior sun protection and comfort for outdoor activities."
          },
          "metadata": {}
        }
      ]
    },
    {
      "cell_type": "markdown",
      "source": [
        "## II. Step-by-Step Exploration of RAG with LangChain"
      ],
      "metadata": {
        "id": "rrOS6hOPNjeP"
      }
    },
    {
      "cell_type": "markdown",
      "source": [
        "Define a loader"
      ],
      "metadata": {
        "id": "4lf38GReNwBk"
      }
    },
    {
      "cell_type": "code",
      "source": [
        "file_path = \"OutdoorClothingCatalog_1000.csv\"\n",
        "loader = CSVLoader(file_path=file_path)"
      ],
      "metadata": {
        "id": "xkzFMxiBIcPR"
      },
      "execution_count": null,
      "outputs": []
    },
    {
      "cell_type": "markdown",
      "source": [
        "Load data"
      ],
      "metadata": {
        "id": "pR_RLJqvN0e1"
      }
    },
    {
      "cell_type": "code",
      "source": [
        "docs = loader.load()"
      ],
      "metadata": {
        "id": "ytxpTkGdIcM_"
      },
      "execution_count": null,
      "outputs": []
    },
    {
      "cell_type": "code",
      "source": [
        "doc = docs[0]\n",
        "print(type(doc)) # just see what type it is"
      ],
      "metadata": {
        "colab": {
          "base_uri": "https://localhost:8080/"
        },
        "id": "yOqBGZeQIcKv",
        "outputId": "e9393fd7-59c2-4e04-da04-bae6a1a818fc"
      },
      "execution_count": null,
      "outputs": [
        {
          "output_type": "stream",
          "name": "stdout",
          "text": [
            "<class 'langchain_core.documents.base.Document'>\n"
          ]
        }
      ]
    },
    {
      "cell_type": "markdown",
      "source": [
        "A `Document` object has two main parts: `page_content` and `metadata`\n"
      ],
      "metadata": {
        "id": "WxyFAIAyP8M1"
      }
    },
    {
      "cell_type": "code",
      "source": [
        "print(doc)"
      ],
      "metadata": {
        "colab": {
          "base_uri": "https://localhost:8080/"
        },
        "id": "dn3rlJ3XIcIP",
        "outputId": "618f2c65-1014-4b8d-9ef6-b85cf85ce06b"
      },
      "execution_count": null,
      "outputs": [
        {
          "output_type": "stream",
          "name": "stdout",
          "text": [
            "page_content=': 0\n",
            "name: Women's Campside Oxfords\n",
            "description: This ultracomfortable lace-to-toe Oxford boasts a super-soft canvas, thick cushioning, and quality construction for a broken-in feel from the first time you put them on. \r\n",
            "\r\n",
            "Size & Fit: Order regular shoe size. For half sizes not offered, order up to next whole size. \r\n",
            "\r\n",
            "Specs: Approx. weight: 1 lb.1 oz. per pair. \r\n",
            "\r\n",
            "Construction: Soft canvas material for a broken-in feel and look. Comfortable EVA innersole with Cleansport NXT® antimicrobial odor control. Vintage hunt, fish and camping motif on innersole. Moderate arch contour of innersole. EVA foam midsole for cushioning and support. Chain-tread-inspired molded rubber outsole with modified chain-tread pattern. Imported. \r\n",
            "\r\n",
            "Questions? Please contact us for any inquiries.' metadata={'source': 'OutdoorClothingCatalog_1000.csv', 'row': 0}\n"
          ]
        }
      ]
    },
    {
      "cell_type": "code",
      "source": [
        "doc.page_content"
      ],
      "metadata": {
        "colab": {
          "base_uri": "https://localhost:8080/",
          "height": 122
        },
        "id": "k8qI9cYBPsQb",
        "outputId": "4d7f383e-0e10-49ac-f069-f2d2dad52f56"
      },
      "execution_count": null,
      "outputs": [
        {
          "output_type": "execute_result",
          "data": {
            "text/plain": [
              "\": 0\\nname: Women's Campside Oxfords\\ndescription: This ultracomfortable lace-to-toe Oxford boasts a super-soft canvas, thick cushioning, and quality construction for a broken-in feel from the first time you put them on. \\r\\n\\r\\nSize & Fit: Order regular shoe size. For half sizes not offered, order up to next whole size. \\r\\n\\r\\nSpecs: Approx. weight: 1 lb.1 oz. per pair. \\r\\n\\r\\nConstruction: Soft canvas material for a broken-in feel and look. Comfortable EVA innersole with Cleansport NXT® antimicrobial odor control. Vintage hunt, fish and camping motif on innersole. Moderate arch contour of innersole. EVA foam midsole for cushioning and support. Chain-tread-inspired molded rubber outsole with modified chain-tread pattern. Imported. \\r\\n\\r\\nQuestions? Please contact us for any inquiries.\""
            ],
            "application/vnd.google.colaboratory.intrinsic+json": {
              "type": "string"
            }
          },
          "metadata": {},
          "execution_count": 60
        }
      ]
    },
    {
      "cell_type": "code",
      "source": [
        "doc.metadata"
      ],
      "metadata": {
        "colab": {
          "base_uri": "https://localhost:8080/"
        },
        "id": "jyw7hAKIPwVq",
        "outputId": "14c3f234-f229-4778-e7e2-7a1024d299a8"
      },
      "execution_count": null,
      "outputs": [
        {
          "output_type": "execute_result",
          "data": {
            "text/plain": [
              "{'source': 'OutdoorClothingCatalog_1000.csv', 'row': 0}"
            ]
          },
          "metadata": {},
          "execution_count": 61
        }
      ]
    },
    {
      "cell_type": "markdown",
      "source": [
        "Define an embedding model"
      ],
      "metadata": {
        "id": "d8iTYWgGQr9a"
      }
    },
    {
      "cell_type": "code",
      "source": [
        "embeddings = HuggingFaceEmbeddings(model_name=\"sentence-transformers/all-MiniLM-L6-v2\")"
      ],
      "metadata": {
        "id": "uNzY3zOpQfQD"
      },
      "execution_count": null,
      "outputs": []
    },
    {
      "cell_type": "code",
      "source": [
        "query = \"Please list all your shirts with sun protection in a table in markdown and summarize each one.\"\n",
        "embed = embeddings.embed_query(query)"
      ],
      "metadata": {
        "id": "Hwd4ycKvQfNz"
      },
      "execution_count": null,
      "outputs": []
    },
    {
      "cell_type": "code",
      "source": [
        "print(len(embed)) # The embedding dimension"
      ],
      "metadata": {
        "colab": {
          "base_uri": "https://localhost:8080/"
        },
        "id": "mHRtAWF_QfLn",
        "outputId": "b0886601-599c-4989-d2ea-cd576d0f9bdd"
      },
      "execution_count": null,
      "outputs": [
        {
          "output_type": "stream",
          "name": "stdout",
          "text": [
            "384\n"
          ]
        }
      ]
    },
    {
      "cell_type": "markdown",
      "source": [
        "Create the vector database (vector store) in memory"
      ],
      "metadata": {
        "id": "XdmB0CdZSInF"
      }
    },
    {
      "cell_type": "code",
      "source": [
        "db = DocArrayInMemorySearch.from_documents(\n",
        "    docs,\n",
        "    embeddings\n",
        ")"
      ],
      "metadata": {
        "id": "bvr8MLANQfGA"
      },
      "execution_count": null,
      "outputs": []
    },
    {
      "cell_type": "markdown",
      "source": [
        "Do semantic similarity search - Retrieve the most relevant documents for a query"
      ],
      "metadata": {
        "id": "qYHc6CZESptt"
      }
    },
    {
      "cell_type": "code",
      "source": [
        "docs = db.similarity_search(query)"
      ],
      "metadata": {
        "id": "WatRWvCpSR_L"
      },
      "execution_count": null,
      "outputs": []
    },
    {
      "cell_type": "code",
      "source": [
        "len(docs) # by default, it return 4 results"
      ],
      "metadata": {
        "colab": {
          "base_uri": "https://localhost:8080/"
        },
        "id": "9U0NVMyvS3ug",
        "outputId": "45d4d311-07ce-42e0-844d-b2220abc0635"
      },
      "execution_count": null,
      "outputs": [
        {
          "output_type": "execute_result",
          "data": {
            "text/plain": [
              "4"
            ]
          },
          "metadata": {},
          "execution_count": 74
        }
      ]
    },
    {
      "cell_type": "code",
      "source": [
        "len(db.similarity_search(query, k=10))  # you can use the 'k' parameter to specify the number of results"
      ],
      "metadata": {
        "colab": {
          "base_uri": "https://localhost:8080/"
        },
        "id": "wiSZfVJtTRzs",
        "outputId": "dee10994-7f71-417d-f638-54b10df983cc"
      },
      "execution_count": null,
      "outputs": [
        {
          "output_type": "execute_result",
          "data": {
            "text/plain": [
              "10"
            ]
          },
          "metadata": {},
          "execution_count": 78
        }
      ]
    },
    {
      "cell_type": "markdown",
      "source": [
        "Wrap the vector store as a retriever so it can be used in QA chains (like `RetrievalQA`)"
      ],
      "metadata": {
        "id": "gn5bYOlSUfgB"
      }
    },
    {
      "cell_type": "code",
      "source": [
        "retriever = db.as_retriever()"
      ],
      "metadata": {
        "id": "MeJa21m5TuE-"
      },
      "execution_count": null,
      "outputs": []
    },
    {
      "cell_type": "markdown",
      "source": [
        "Combine the text content of all retrieved documents into a single string to use as input for the language model."
      ],
      "metadata": {
        "id": "4mciXn23VF4f"
      }
    },
    {
      "cell_type": "code",
      "source": [
        "qdocs = \"\".join([docs[i].page_content for i in range(len(docs))])"
      ],
      "metadata": {
        "id": "bP7LPS-VUq8G"
      },
      "execution_count": null,
      "outputs": []
    },
    {
      "cell_type": "code",
      "source": [
        "response = llm.invoke(f\"{qdocs} Question: Please list all your \\\n",
        "shirts with sun protection in a table in markdown and summarize each one.\")"
      ],
      "metadata": {
        "id": "TEtAR29sVgAW"
      },
      "execution_count": null,
      "outputs": []
    },
    {
      "cell_type": "code",
      "source": [
        "display(Markdown(response.content))"
      ],
      "metadata": {
        "colab": {
          "base_uri": "https://localhost:8080/",
          "height": 366
        },
        "id": "gKlnrJcYVqT7",
        "outputId": "4df39c4a-5a82-4c33-bbce-934c2698d2dc"
      },
      "execution_count": null,
      "outputs": [
        {
          "output_type": "display_data",
          "data": {
            "text/plain": [
              "<IPython.core.display.Markdown object>"
            ],
            "text/markdown": "### Sun Protection Shirts\n| Shirt Name | Description | Fabric | UPF Rating | Care |\n| --- | --- | --- | --- | --- |\n| Women's Tropical Tee, Sleeveless | Sleeveless button-up with SunSmart™ protection, slightly fitted, and wrinkle resistant | 71% nylon, 29% polyester | UPF 50+ | Machine wash and dry |\n| Sun Shield Shirt | High-performance sun shirt with SPF 50+ sun protection, slightly fitted, and quick-drying | 78% nylon, 22% Lycra Xtra Life fiber | UPF 50+ | Hand wash, line dry |\n| Sunrise Tee | Lightweight, UV-protective button-down shirt with moisture-wicking fabric, slightly fitted, and wrinkle-free | 71% nylon, 29% polyester | UPF 50+ | Machine wash and dry |\n| Tropical Breeze Shirt | Lightweight, breathable long-sleeve shirt with SunSmart™ protection, traditional fit, and moisture-wicking fabric | 71% nylon, 29% polyester | UPF 50+ | Machine wash and dry |\n\n**Summary:**\nThese four shirts offer sun protection with UPF 50+ ratings, blocking 98% of the sun's harmful UV rays. The Women's Tropical Tee and Sunrise Tee are designed for women, while the Tropical Breeze Shirt is for men. The Sun Shield Shirt is a high-performance option with quick-drying comfort. All shirts have moisture-wicking fabrics and are designed for outdoor activities, travel, or everyday wear."
          },
          "metadata": {}
        }
      ]
    },
    {
      "cell_type": "markdown",
      "source": [
        "Finally: build a full retrieval chain (without manually receiving the context or invoking the LLM directly)"
      ],
      "metadata": {
        "id": "_oqwM7nkedB5"
      }
    },
    {
      "cell_type": "code",
      "source": [
        "from langchain.chains import create_retrieval_chain\n",
        "from langchain.chains.combine_documents import create_stuff_documents_chain\n",
        "from langchain_core.prompts import ChatPromptTemplate\n",
        "\n",
        "prompt = ChatPromptTemplate.from_messages([\n",
        "    (\"system\", \"Use the given context to answer the question, \"\n",
        "     \"\\n{context}\\n\"\n",
        "     \"Respond in markdown table and summarize each one.\"),\n",
        "    (\"human\", \"{input}\")\n",
        "])\n",
        "# IMPORTANT:\n",
        "# LangChain's create_retrieval_chain automatically provides {context} and {input} as variables to the prompt.\n",
        "# Make sure your prompt includes exactly these two placeholders: {context} and {input}.\n",
        "\n",
        "\n",
        "# Create a \"stuff\" chain: combines all retrieved documents into a single long string for the LLM\n",
        "question_answer_chain = create_stuff_documents_chain(llm, prompt)\n",
        "\n",
        "# Create the full Retrieval QA chain by connecting the retriever and the question-answer chain\n",
        "chain = create_retrieval_chain(retriever, question_answer_chain)\n"
      ],
      "metadata": {
        "id": "SftoYYNlWUbQ"
      },
      "execution_count": null,
      "outputs": []
    },
    {
      "cell_type": "code",
      "source": [
        "response = chain.invoke({\"input\": \"Please list all your shirts with sun protection\"})"
      ],
      "metadata": {
        "id": "8qm-GyN9WUZA"
      },
      "execution_count": null,
      "outputs": []
    },
    {
      "cell_type": "code",
      "source": [
        "display(Markdown(response[\"answer\"]))"
      ],
      "metadata": {
        "colab": {
          "base_uri": "https://localhost:8080/",
          "height": 270
        },
        "id": "r0R0F5t3WUWw",
        "outputId": "118ac817-1529-491a-9a85-c64d67347573"
      },
      "execution_count": null,
      "outputs": [
        {
          "output_type": "display_data",
          "data": {
            "text/plain": [
              "<IPython.core.display.Markdown object>"
            ],
            "text/markdown": "### Sun Protection Shirts\nHere is a list of shirts with sun protection:\n\n| ID | Name | Description | Sun Protection |\n| --- | --- | --- | --- |\n| 255 | Sun Shield Shirt | High-performance sun shirt with UPF 50+ rating | Blocks 98% of UV rays |\n| 679 | Women's Tropical Tee | Sleeveless shirt with built-in SunSmart UPF 50+ rating | Blocks 98% of UV rays |\n| 535 | Men's TropicVibe Shirt | Short-sleeve shirt with UPF 50+ rating | Blocks 98% of UV rays |\n| 709 | Sunrise Tee | Women's UV-protective button down shirt with UPF 50+ rating | Blocks 98% of UV rays |\n\nAll shirts have a **UPF 50+ rating**, which is the highest rated sun protection possible, blocking **98% of the sun's harmful rays**."
          },
          "metadata": {}
        }
      ]
    },
    {
      "cell_type": "markdown",
      "source": [
        "👉 All of the steps above can be simplified using `VectorstoreIndexCreator`:\n",
        "\n",
        "\n"
      ],
      "metadata": {
        "id": "i7WwXYYif5p-"
      }
    },
    {
      "cell_type": "code",
      "source": [
        "# llm = ...  # define the LLM\n",
        "# embeddings = ...  # define the embedding model\n",
        "# loader = ...  # define the document loader\n",
        "\n",
        "index_creator = VectorstoreIndexCreator(\n",
        "    embedding=embeddings,\n",
        "    vectorstore_cls=DocArrayInMemorySearch\n",
        ")\n",
        "\n",
        "index = index_creator.from_loaders([loader])\n",
        "\n",
        "\n",
        "query = \"Please list all your shirts with sun protection in a table in markdown and summarize each one.\"\n",
        "response = index.query(query, llm=llm)\n"
      ],
      "metadata": {
        "id": "92ChHWprgGYG"
      },
      "execution_count": null,
      "outputs": []
    },
    {
      "cell_type": "markdown",
      "metadata": {
        "id": "864a5c71"
      },
      "source": [
        "---\n",
        "# Summary of Your LangChain Learning Journey\n",
        "\n",
        "In this notebook, you've delved into the world of Question & Answering over documents, a core application of LangChain. You've learned how to build a RAG (Retrieval-Augmented Generation) system from the ground up, and also how to use LangChain's abstractions to simplify the process. Here's a breakdown of the key concepts:\n",
        "\n",
        "**1. Setting Up Your Environment for RAG:**\n",
        "\n",
        "* You began by installing the necessary libraries for this lesson, including:\n",
        "    - `langchain-groq` for interacting with the Groq API.\n",
        "    - `langchain-community` for community-contributed components like loaders.\n",
        "    - `langchain-huggingface` to use Hugging Face's embedding models.\n",
        "    - `docarray` for in-memory vector storage.\n",
        "* You continued the best practice of using `python-dotenv` to manage your API keys securely.\n",
        "\n",
        "**2. Building a RAG Pipeline - The Easy Way:**\n",
        "\n",
        "* You started with the `VectorstoreIndexCreator`, a high-level abstraction that simplifies the creation of a RAG pipeline.\n",
        "* You learned how to:\n",
        "    - Load documents from a CSV file using `CSVLoader`.\n",
        "    - Define an embedding model using `HuggingFaceEmbeddings`.\n",
        "    - Create a vector store and query it with a single command, demonstrating the power of LangChain's abstractions.\n",
        "\n",
        "**3. Deep Dive into the Components of RAG:**\n",
        "\n",
        "* You then deconstructed the RAG pipeline to understand each component in detail:\n",
        "    - **Loading Documents:** You loaded documents and inspected their structure, understanding the `page_content` and `metadata`.\n",
        "    - **Embeddings:** You used an embedding model to convert your query into a vector representation.\n",
        "    - **Vector Stores:** You created an in-memory vector store using `DocArrayInMemorySearch` and performed similarity searches to retrieve relevant documents.\n",
        "    - **Retrievers:** You wrapped your vector store in a retriever to make it compatible with LangChain's QA chains.\n",
        "    - **Chains:** You learned how to manually construct a QA chain by retrieving documents, combining their content, and then passing that context to the LLM.\n",
        "\n",
        "**4. Building a More Advanced RAG Chain:**\n",
        "\n",
        "* You leveled up your skills by using `create_retrieval_chain` to build a more sophisticated and flexible RAG pipeline.\n",
        "* You learned how to use `ChatPromptTemplate` to create a prompt that effectively utilizes the retrieved context to answer the user's question.\n",
        "\n",
        "**In essence, you've learned how to:**\n",
        "\n",
        "* **Load** and prepare data from external documents.\n",
        "* **Embed** text into a vector representation for semantic search.\n",
        "* **Store** and retrieve information from a vector store.\n",
        "* **Construct** a complete RAG pipeline, both manually and with the help of LangChain's abstractions.\n",
        "* **Chain** all these components together to create a powerful Q&A application.\n",
        "\n",
        "These are the fundamental skills for building applications that can reason about and answer questions based on your own data. You're well on your way to building even more impressive LangChain applications!"
      ]
    },
    {
      "cell_type": "markdown",
      "metadata": {
        "id": "749ed0d8"
      },
      "source": [
        "---\n",
        "# Key Commands and Imports to Remember\n",
        "\n",
        "### Python Libraries:\n",
        "- **`import os`**: Interacts with the operating system, mainly for accessing environment variables.\n",
        "- **`from dotenv import load_dotenv`**: Loads environment variables from a `.env` file to securely manage API credentials.\n",
        "\n",
        "### LangChain Libraries:\n",
        "- **`from langchain.chat_models import init_chat_model`**: Easily initializes a chat model instance from a provider.\n",
        "- **`from langchain_community.document_loaders.csv_loader import CSVLoader`**: A loader for reading data from CSV files.\n",
        "- **`from langchain_huggingface import HuggingFaceEmbeddings`**:  A class for using embedding models from Hugging Face.\n",
        "- **`from langchain.indexes.vectorstore import VectorstoreIndexCreator`**: A high-level tool for quickly creating a vector store index from documents.\n",
        "- **`from langchain_community.vectorstores import DocArrayInMemorySearch`**: An in-memory vector store for fast prototyping and development.\n",
        "- **`from langchain.chains import create_retrieval_chain`**: A function to create a chain that retrieves documents and then answers a question based on them.\n",
        "- **`from langchain.chains.combine_documents import create_stuff_documents_chain`**: A chain that \"stuffs\" all retrieved documents into the prompt.\n",
        "- **`from langchain_core.prompts import ChatPromptTemplate`**: For creating and formatting prompt templates that can be used in a chain."
      ]
    }
  ]
}